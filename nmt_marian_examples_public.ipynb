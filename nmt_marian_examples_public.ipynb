{
  "nbformat": 4,
  "nbformat_minor": 0,
  "metadata": {
    "colab": {
      "provenance": [],
      "include_colab_link": true
    },
    "kernelspec": {
      "name": "python3",
      "display_name": "Python 3"
    },
    "accelerator": "GPU"
  },
  "cells": [
    {
      "cell_type": "markdown",
      "metadata": {
        "id": "view-in-github",
        "colab_type": "text"
      },
      "source": [
        "<a href=\"https://colab.research.google.com/github/NangZinMinAye/Ngal/blob/main/nmt_marian_examples_public.ipynb\" target=\"_parent\"><img src=\"https://colab.research.google.com/assets/colab-badge.svg\" alt=\"Open In Colab\"/></a>"
      ]
    },
    {
      "cell_type": "code",
      "metadata": {
        "id": "f8cfbgWSzAkP",
        "colab": {
          "base_uri": "https://localhost:8080/",
          "height": 136
        },
        "outputId": "1737b26a-4449-4076-b77c-9a157d48c567"
      },
      "source": [
        "!git clone https://github.com/marian-nmt/marian-examples\n",
        "#cd marian-examples/tools\n",
        "#make\n",
        "#cd ../training-basics"
      ],
      "execution_count": null,
      "outputs": [
        {
          "output_type": "stream",
          "text": [
            "Cloning into 'marian-examples'...\n",
            "remote: Enumerating objects: 194, done.\u001b[K\n",
            "remote: Counting objects: 100% (194/194), done.\u001b[K\n",
            "remote: Compressing objects: 100% (149/149), done.\u001b[K\n",
            "remote: Total 467 (delta 128), reused 82 (delta 40), pack-reused 273\u001b[K\n",
            "Receiving objects: 100% (467/467), 492.74 KiB | 910.00 KiB/s, done.\n",
            "Resolving deltas: 100% (293/293), done.\n"
          ],
          "name": "stdout"
        }
      ]
    },
    {
      "cell_type": "code",
      "metadata": {
        "id": "q6NLMLGQ0tLP",
        "colab": {
          "base_uri": "https://localhost:8080/",
          "height": 340
        },
        "outputId": "c4f14eba-4453-4f34-afb4-b249ba765fa4"
      },
      "source": [
        "!cd marian-examples/tools && make"
      ],
      "execution_count": null,
      "outputs": [
        {
          "output_type": "stream",
          "text": [
            "git clone https://github.com/marian-nmt/moses-scripts\n",
            "Cloning into 'moses-scripts'...\n",
            "remote: Enumerating objects: 79, done.\u001b[K\n",
            "remote: Total 79 (delta 0), reused 0 (delta 0), pack-reused 79\u001b[K\n",
            "Unpacking objects: 100% (79/79), done.\n",
            "git clone https://github.com/rsennrich/subword-nmt\n",
            "Cloning into 'subword-nmt'...\n",
            "remote: Enumerating objects: 4, done.\u001b[K\n",
            "remote: Counting objects: 100% (4/4), done.\u001b[K\n",
            "remote: Compressing objects: 100% (4/4), done.\u001b[K\n",
            "remote: Total 485 (delta 0), reused 1 (delta 0), pack-reused 481\u001b[K\n",
            "Receiving objects: 100% (485/485), 205.64 KiB | 382.00 KiB/s, done.\n",
            "Resolving deltas: 100% (287/287), done.\n",
            "git clone https://github.com/marian-nmt/sacreBLEU -b master\n",
            "Cloning into 'sacreBLEU'...\n",
            "remote: Enumerating objects: 488, done.\u001b[K\n",
            "remote: Total 488 (delta 0), reused 0 (delta 0), pack-reused 488\u001b[K\n",
            "Receiving objects: 100% (488/488), 135.02 KiB | 375.00 KiB/s, done.\n",
            "Resolving deltas: 100% (309/309), done.\n"
          ],
          "name": "stdout"
        }
      ]
    },
    {
      "cell_type": "code",
      "metadata": {
        "id": "JQfXqb2X03D9"
      },
      "source": [
        "#!cd marian-examples/training-basics && ./scripts/download-files.sh"
      ],
      "execution_count": null,
      "outputs": []
    },
    {
      "cell_type": "code",
      "metadata": {
        "id": "OKlRkT740_Ya"
      },
      "source": [
        "#!cd marian-examples/training-basics && ./scripts/preprocess-data.sh"
      ],
      "execution_count": null,
      "outputs": []
    },
    {
      "cell_type": "code",
      "metadata": {
        "id": "3ugPWjnz1NKZ",
        "colab": {
          "base_uri": "https://localhost:8080/",
          "height": 476
        },
        "outputId": "f95e4f28-f29a-4f99-bcf1-076b95ff939b"
      },
      "source": [
        "!wget data.statmt.org/romang/marian-examples/training-basics.data.tgz\n",
        "!tar zxvf training-basics.data.tgz"
      ],
      "execution_count": null,
      "outputs": [
        {
          "output_type": "stream",
          "text": [
            "--2019-01-06 15:43:44--  http://data.statmt.org/romang/marian-examples/training-basics.data.tgz\n",
            "Resolving data.statmt.org (data.statmt.org)... 129.215.197.184\n",
            "Connecting to data.statmt.org (data.statmt.org)|129.215.197.184|:80... connected.\n",
            "HTTP request sent, awaiting response... 200 OK\n",
            "Length: 279155099 (266M) [application/x-gzip]\n",
            "Saving to: ‘training-basics.data.tgz’\n",
            "\n",
            "training-basics.dat 100%[===================>] 266.22M  3.96MB/s    in 1m 58s  \n",
            "\n",
            "2019-01-06 15:45:43 (2.26 MB/s) - ‘training-basics.data.tgz’ saved [279155099/279155099]\n",
            "\n",
            "training-basics/\n",
            "training-basics/data/\n",
            "training-basics/data/newstest2016.ro\n",
            "training-basics/data/corpus.bpe.ro\n",
            "training-basics/data/newsdev2016.en\n",
            "training-basics/data/newsdev2016.ro\n",
            "training-basics/data/newstest2016.bpe.en\n",
            "training-basics/data/corpus.bpe.en\n",
            "training-basics/data/newstest2016.bpe.ro\n",
            "training-basics/data/newsdev2016.bpe.ro\n",
            "training-basics/data/newstest2016.en\n",
            "training-basics/data/newsdev2016.bpe.en\n",
            "training-basics/model/\n",
            "training-basics/model/roen.bpe\n",
            "training-basics/model/tc.ro\n",
            "training-basics/model/tc.en\n"
          ],
          "name": "stdout"
        }
      ]
    },
    {
      "cell_type": "code",
      "metadata": {
        "id": "Xk7YKnx6zpyB",
        "colab": {
          "base_uri": "https://localhost:8080/",
          "height": 85
        },
        "outputId": "42a50877-4521-484e-dae1-054172215163"
      },
      "source": [
        "!ls training-basics/data"
      ],
      "execution_count": null,
      "outputs": [
        {
          "output_type": "stream",
          "text": [
            "corpus.bpe.en\t    newsdev2016.bpe.ro\tnewstest2016.bpe.en  newstest2016.ro\n",
            "corpus.bpe.ro\t    newsdev2016.en\tnewstest2016.bpe.ro\n",
            "newsdev2016.bpe.en  newsdev2016.ro\tnewstest2016.en\n",
            "roen.bpe  tc.en  tc.ro\n"
          ],
          "name": "stdout"
        }
      ]
    },
    {
      "cell_type": "code",
      "metadata": {
        "id": "2hEOCVwm2RlP",
        "colab": {
          "base_uri": "https://localhost:8080/",
          "height": 34
        },
        "outputId": "0d7488d2-67ab-40f9-826f-31abbc422e06"
      },
      "source": [
        "!ls training-basics/model"
      ],
      "execution_count": null,
      "outputs": [
        {
          "output_type": "stream",
          "text": [
            "roen.bpe  tc.en  tc.ro\n"
          ],
          "name": "stdout"
        }
      ]
    },
    {
      "cell_type": "code",
      "metadata": {
        "id": "ILns4k3G1eRp",
        "colab": {
          "base_uri": "https://localhost:8080/",
          "height": 3420
        },
        "outputId": "3c46ad79-f45d-45fc-a233-310b52c72cd3"
      },
      "source": [
        "#!mkdir -p model\n",
        "!./marian/build/marian \\\n",
        "  --model training-basics/model/model.npz \\\n",
        "  --train-sets training-basics/data/corpus.bpe.ro training-basics/data/corpus.bpe.en \\\n",
        "  --disp-freq 100"
      ],
      "execution_count": null,
      "outputs": [
        {
          "output_type": "stream",
          "text": [
            "[2019-01-06 15:48:05] [marian] Marian v1.7.6 02f4af4e 2018-12-12 18:51:10 -0800\n",
            "[2019-01-06 15:48:05] [marian] Running on ee7ac8d92455 as process 12048 with command line:\n",
            "[2019-01-06 15:48:05] [marian] ./marian/build/marian --model training-basics/model/model.npz --train-sets training-basics/data/corpus.bpe.ro training-basics/data/corpus.bpe.en --disp-freq 100\n",
            "[2019-01-06 15:48:05] [config] after-batches: 0\n",
            "[2019-01-06 15:48:05] [config] after-epochs: 0\n",
            "[2019-01-06 15:48:05] [config] allow-unk: false\n",
            "[2019-01-06 15:48:05] [config] beam-size: 12\n",
            "[2019-01-06 15:48:05] [config] best-deep: false\n",
            "[2019-01-06 15:48:05] [config] clip-gemm: 0\n",
            "[2019-01-06 15:48:05] [config] clip-norm: 1\n",
            "[2019-01-06 15:48:05] [config] cost-type: ce-mean\n",
            "[2019-01-06 15:48:05] [config] cpu-threads: 0\n",
            "[2019-01-06 15:48:05] [config] data-weighting-type: sentence\n",
            "[2019-01-06 15:48:05] [config] dec-cell: gru\n",
            "[2019-01-06 15:48:05] [config] dec-cell-base-depth: 2\n",
            "[2019-01-06 15:48:05] [config] dec-cell-high-depth: 1\n",
            "[2019-01-06 15:48:05] [config] dec-depth: 1\n",
            "[2019-01-06 15:48:05] [config] devices:\n",
            "[2019-01-06 15:48:05] [config]   - 0\n",
            "[2019-01-06 15:48:05] [config] dim-emb: 512\n",
            "[2019-01-06 15:48:05] [config] dim-rnn: 1024\n",
            "[2019-01-06 15:48:05] [config] dim-vocabs:\n",
            "[2019-01-06 15:48:05] [config]   - 0\n",
            "[2019-01-06 15:48:05] [config]   - 0\n",
            "[2019-01-06 15:48:05] [config] disp-first: 0\n",
            "[2019-01-06 15:48:05] [config] disp-freq: 100\n",
            "[2019-01-06 15:48:05] [config] disp-label-counts: false\n",
            "[2019-01-06 15:48:05] [config] dropout-rnn: 0\n",
            "[2019-01-06 15:48:05] [config] dropout-src: 0\n",
            "[2019-01-06 15:48:05] [config] dropout-trg: 0\n",
            "[2019-01-06 15:48:05] [config] early-stopping: 10\n",
            "[2019-01-06 15:48:05] [config] embedding-fix-src: false\n",
            "[2019-01-06 15:48:05] [config] embedding-fix-trg: false\n",
            "[2019-01-06 15:48:05] [config] embedding-normalization: false\n",
            "[2019-01-06 15:48:05] [config] enc-cell: gru\n",
            "[2019-01-06 15:48:05] [config] enc-cell-depth: 1\n",
            "[2019-01-06 15:48:05] [config] enc-depth: 1\n",
            "[2019-01-06 15:48:05] [config] enc-type: bidirectional\n",
            "[2019-01-06 15:48:05] [config] exponential-smoothing: 0\n",
            "[2019-01-06 15:48:05] [config] grad-dropping-momentum: 0\n",
            "[2019-01-06 15:48:05] [config] grad-dropping-rate: 0\n",
            "[2019-01-06 15:48:05] [config] grad-dropping-warmup: 100\n",
            "[2019-01-06 15:48:05] [config] guided-alignment: none\n",
            "[2019-01-06 15:48:05] [config] guided-alignment-cost: mse\n",
            "[2019-01-06 15:48:05] [config] guided-alignment-weight: 0.1\n",
            "[2019-01-06 15:48:05] [config] ignore-model-config: false\n",
            "[2019-01-06 15:48:05] [config] interpolate-env-vars: false\n",
            "[2019-01-06 15:48:05] [config] keep-best: false\n",
            "[2019-01-06 15:48:05] [config] label-smoothing: 0\n",
            "[2019-01-06 15:48:05] [config] layer-normalization: false\n",
            "[2019-01-06 15:48:05] [config] learn-rate: 0.0001\n",
            "[2019-01-06 15:48:05] [config] log-level: info\n",
            "[2019-01-06 15:48:05] [config] lr-decay: 0\n",
            "[2019-01-06 15:48:05] [config] lr-decay-freq: 50000\n",
            "[2019-01-06 15:48:05] [config] lr-decay-inv-sqrt: 0\n",
            "[2019-01-06 15:48:05] [config] lr-decay-repeat-warmup: false\n",
            "[2019-01-06 15:48:05] [config] lr-decay-reset-optimizer: false\n",
            "[2019-01-06 15:48:05] [config] lr-decay-start:\n",
            "[2019-01-06 15:48:05] [config]   - 10\n",
            "[2019-01-06 15:48:05] [config]   - 1\n",
            "[2019-01-06 15:48:05] [config] lr-decay-strategy: epoch+stalled\n",
            "[2019-01-06 15:48:05] [config] lr-report: false\n",
            "[2019-01-06 15:48:05] [config] lr-warmup: 0\n",
            "[2019-01-06 15:48:05] [config] lr-warmup-at-reload: false\n",
            "[2019-01-06 15:48:05] [config] lr-warmup-cycle: false\n",
            "[2019-01-06 15:48:05] [config] lr-warmup-start-rate: 0\n",
            "[2019-01-06 15:48:05] [config] max-length: 50\n",
            "[2019-01-06 15:48:05] [config] max-length-crop: false\n",
            "[2019-01-06 15:48:05] [config] max-length-factor: 3\n",
            "[2019-01-06 15:48:05] [config] maxi-batch: 100\n",
            "[2019-01-06 15:48:05] [config] maxi-batch-sort: trg\n",
            "[2019-01-06 15:48:05] [config] mini-batch: 64\n",
            "[2019-01-06 15:48:05] [config] mini-batch-fit: false\n",
            "[2019-01-06 15:48:05] [config] mini-batch-fit-step: 10\n",
            "[2019-01-06 15:48:05] [config] mini-batch-words: 0\n",
            "[2019-01-06 15:48:05] [config] model: training-basics/model/model.npz\n",
            "[2019-01-06 15:48:05] [config] multi-node: false\n",
            "[2019-01-06 15:48:05] [config] multi-node-overlap: true\n",
            "[2019-01-06 15:48:05] [config] n-best: false\n",
            "[2019-01-06 15:48:05] [config] no-nccl: false\n",
            "[2019-01-06 15:48:05] [config] no-reload: false\n",
            "[2019-01-06 15:48:05] [config] no-restore-corpus: false\n",
            "[2019-01-06 15:48:05] [config] no-shuffle: false\n",
            "[2019-01-06 15:48:05] [config] normalize: 0\n",
            "[2019-01-06 15:48:05] [config] optimizer: adam\n",
            "[2019-01-06 15:48:05] [config] optimizer-delay: 1\n",
            "[2019-01-06 15:48:05] [config] overwrite: false\n",
            "[2019-01-06 15:48:05] [config] quiet: false\n",
            "[2019-01-06 15:48:05] [config] quiet-translation: false\n",
            "[2019-01-06 15:48:05] [config] relative-paths: false\n",
            "[2019-01-06 15:48:05] [config] right-left: false\n",
            "[2019-01-06 15:48:05] [config] save-freq: 10000u\n",
            "[2019-01-06 15:48:05] [config] seed: 0\n",
            "[2019-01-06 15:48:05] [config] shuffle-in-ram: false\n",
            "[2019-01-06 15:48:05] [config] skip: false\n",
            "[2019-01-06 15:48:05] [config] sqlite: \"\"\n",
            "[2019-01-06 15:48:05] [config] sqlite-drop: false\n",
            "[2019-01-06 15:48:05] [config] sync-sgd: false\n",
            "[2019-01-06 15:48:05] [config] tempdir: /tmp\n",
            "[2019-01-06 15:48:05] [config] tied-embeddings: false\n",
            "[2019-01-06 15:48:05] [config] tied-embeddings-all: false\n",
            "[2019-01-06 15:48:05] [config] tied-embeddings-src: false\n",
            "[2019-01-06 15:48:05] [config] train-sets:\n",
            "[2019-01-06 15:48:05] [config]   - training-basics/data/corpus.bpe.ro\n",
            "[2019-01-06 15:48:05] [config]   - training-basics/data/corpus.bpe.en\n",
            "[2019-01-06 15:48:05] [config] transformer-aan-activation: swish\n",
            "[2019-01-06 15:48:05] [config] transformer-aan-depth: 2\n",
            "[2019-01-06 15:48:05] [config] transformer-aan-nogate: false\n",
            "[2019-01-06 15:48:05] [config] transformer-decoder-autoreg: self-attention\n",
            "[2019-01-06 15:48:05] [config] transformer-dim-aan: 2048\n",
            "[2019-01-06 15:48:05] [config] transformer-dim-ffn: 2048\n",
            "[2019-01-06 15:48:05] [config] transformer-dropout: 0\n",
            "[2019-01-06 15:48:05] [config] transformer-dropout-attention: 0\n",
            "[2019-01-06 15:48:05] [config] transformer-dropout-ffn: 0\n",
            "[2019-01-06 15:48:05] [config] transformer-ffn-activation: swish\n",
            "[2019-01-06 15:48:05] [config] transformer-ffn-depth: 2\n",
            "[2019-01-06 15:48:05] [config] transformer-guided-alignment-layer: last\n",
            "[2019-01-06 15:48:05] [config] transformer-heads: 8\n",
            "[2019-01-06 15:48:05] [config] transformer-no-projection: false\n",
            "[2019-01-06 15:48:05] [config] transformer-postprocess: dan\n",
            "[2019-01-06 15:48:05] [config] transformer-postprocess-emb: d\n",
            "[2019-01-06 15:48:05] [config] transformer-preprocess: \"\"\n",
            "[2019-01-06 15:48:05] [config] transformer-tied-layers:\n",
            "[2019-01-06 15:48:05] [config]   []\n",
            "[2019-01-06 15:48:05] [config] type: amun\n",
            "[2019-01-06 15:48:05] [config] ulr: false\n",
            "[2019-01-06 15:48:05] [config] ulr-dim-emb: 0\n",
            "[2019-01-06 15:48:05] [config] ulr-dropout: 0\n",
            "[2019-01-06 15:48:05] [config] ulr-keys-vectors: \"\"\n",
            "[2019-01-06 15:48:05] [config] ulr-query-vectors: \"\"\n",
            "[2019-01-06 15:48:05] [config] ulr-softmax-temperature: 1\n",
            "[2019-01-06 15:48:05] [config] ulr-trainable-transformation: false\n",
            "[2019-01-06 15:48:05] [config] valid-freq: 10000u\n",
            "[2019-01-06 15:48:05] [config] valid-max-length: 1000\n",
            "[2019-01-06 15:48:05] [config] valid-metrics:\n",
            "[2019-01-06 15:48:05] [config]   - cross-entropy\n",
            "[2019-01-06 15:48:05] [config] valid-mini-batch: 32\n",
            "[2019-01-06 15:48:05] [config] vocabs:\n",
            "[2019-01-06 15:48:05] [config]   []\n",
            "[2019-01-06 15:48:05] [config] word-penalty: 0\n",
            "[2019-01-06 15:48:05] [config] workspace: 2048\n",
            "[2019-01-06 15:48:05] [config] Model is being created with Marian v1.7.6 02f4af4e 2018-12-12 18:51:10 -0800\n",
            "[2019-01-06 15:48:05] Using single-device training\n",
            "[2019-01-06 15:48:05] No vocabulary files given, trying to find or build based on training data. Vocabularies will be built separately for each file.\n",
            "[2019-01-06 15:48:05] No vocabulary path given; trying to find default vocabulary based on data path training-basics/data/corpus.bpe.ro\n",
            "[2019-01-06 15:48:05] No vocabulary path given; trying to create vocabulary based on data paths training-basics/data/corpus.bpe.ro\n",
            "[2019-01-06 15:48:05] [data] Creating vocabulary training-basics/data/corpus.bpe.ro.yml from training-basics/data/corpus.bpe.ro\n",
            "[2019-01-06 15:48:17] [data] Loading vocabulary from JSON/Yaml file training-basics/data/corpus.bpe.ro.yml\n",
            "[2019-01-06 15:48:18] [data] Setting vocabulary size for input 0 to 64634\n",
            "[2019-01-06 15:48:18] No vocabulary path given; trying to find default vocabulary based on data path training-basics/data/corpus.bpe.en\n",
            "[2019-01-06 15:48:18] No vocabulary path given; trying to create vocabulary based on data paths training-basics/data/corpus.bpe.en\n",
            "[2019-01-06 15:48:18] [data] Creating vocabulary training-basics/data/corpus.bpe.en.yml from training-basics/data/corpus.bpe.en\n",
            "[2019-01-06 15:48:29] [data] Loading vocabulary from JSON/Yaml file training-basics/data/corpus.bpe.en.yml\n",
            "[2019-01-06 15:48:29] [data] Setting vocabulary size for input 1 to 58565\n",
            "[2019-01-06 15:48:30] [memory] Extending reserved space to 2048 MB (device gpu0)\n",
            "[2019-01-06 15:48:30] Training started\n",
            "[2019-01-06 15:48:30] [data] Shuffling files\n",
            "[2019-01-06 15:48:32] [data] Done reading 2603030 sentences\n",
            "[2019-01-06 15:48:52] [data] Done shuffling 2603030 sentences to temp files\n",
            "[2019-01-06 15:48:53] [memory] Reserving 484 MB, device gpu0\n",
            "[2019-01-06 15:48:54] [memory] Reserving 484 MB, device gpu0\n",
            "[2019-01-06 15:48:54] [memory] Reserving 968 MB, device gpu0\n",
            "tcmalloc: large alloc 2147483648 bytes == 0x557387202000 @  0x7f2803c8f887 0x557336f2425a 0x557336b69152 0x557336c02818 0x557336a9d358 0x557336d034d3 0x557336d0626e 0x557336aa8d60 0x5573369e2831 0x5573369c1fe5 0x7f27f36ddb97 0x5573369e0d2a\n",
            "[2019-01-06 15:49:58] Ep. 1 : Up. 100 : Sen. 6,400 : Cost 198.96031189 : Time 88.61s : 1662.32 words/s\n",
            "[2019-01-06 15:50:59] Ep. 1 : Up. 200 : Sen. 12,800 : Cost 166.53367615 : Time 61.69s : 2366.18 words/s\n",
            "[2019-01-06 15:52:02] Ep. 1 : Up. 300 : Sen. 19,200 : Cost 167.22560120 : Time 62.19s : 2362.46 words/s\n",
            "[2019-01-06 15:53:03] Ep. 1 : Up. 400 : Sen. 25,600 : Cost 165.99859619 : Time 61.73s : 2370.05 words/s\n",
            "[2019-01-06 15:54:05] Ep. 1 : Up. 500 : Sen. 32,000 : Cost 166.92285156 : Time 61.94s : 2378.67 words/s\n",
            "[2019-01-06 15:55:07] Ep. 1 : Up. 600 : Sen. 38,400 : Cost 165.58398438 : Time 61.73s : 2372.97 words/s\n",
            "[2019-01-06 15:56:08] Ep. 1 : Up. 700 : Sen. 44,800 : Cost 163.24690247 : Time 60.90s : 2375.07 words/s\n",
            "[2019-01-06 15:57:09] Ep. 1 : Up. 800 : Sen. 51,200 : Cost 165.59376526 : Time 61.53s : 2386.02 words/s\n",
            "[2019-01-06 15:58:11] Ep. 1 : Up. 900 : Sen. 57,600 : Cost 163.08816528 : Time 61.98s : 2367.27 words/s\n",
            "[2019-01-06 15:59:13] Ep. 1 : Up. 1000 : Sen. 64,000 : Cost 158.99447632 : Time 61.62s : 2377.23 words/s\n",
            "[2019-01-06 16:00:15] Ep. 1 : Up. 1100 : Sen. 70,400 : Cost 157.50514221 : Time 62.22s : 2360.68 words/s\n",
            "[2019-01-06 16:01:17] Ep. 1 : Up. 1200 : Sen. 76,800 : Cost 155.04658508 : Time 62.01s : 2359.57 words/s\n",
            "[2019-01-06 16:02:20] Ep. 1 : Up. 1300 : Sen. 83,200 : Cost 155.43656921 : Time 62.57s : 2363.32 words/s\n",
            "[2019-01-06 16:03:22] Ep. 1 : Up. 1400 : Sen. 89,600 : Cost 152.99256897 : Time 62.28s : 2362.81 words/s\n",
            "[2019-01-06 16:04:24] Ep. 1 : Up. 1500 : Sen. 96,000 : Cost 151.73875427 : Time 62.15s : 2355.86 words/s\n",
            "[2019-01-06 16:05:26] Ep. 1 : Up. 1600 : Sen. 102,400 : Cost 148.93676758 : Time 61.70s : 2355.77 words/s\n",
            "[2019-01-06 16:06:29] Ep. 1 : Up. 1700 : Sen. 108,800 : Cost 149.97000122 : Time 62.72s : 2357.46 words/s\n",
            "[2019-01-06 16:07:31] Ep. 1 : Up. 1800 : Sen. 115,200 : Cost 148.56225586 : Time 62.49s : 2360.23 words/s\n",
            "[2019-01-06 16:08:34] Ep. 1 : Up. 1900 : Sen. 121,600 : Cost 148.07952881 : Time 62.53s : 2364.28 words/s\n",
            "[2019-01-06 16:09:36] Ep. 1 : Up. 2000 : Sen. 128,000 : Cost 145.64109802 : Time 62.22s : 2351.15 words/s\n",
            "[2019-01-06 16:10:38] Ep. 1 : Up. 2100 : Sen. 134,400 : Cost 146.82397461 : Time 62.57s : 2365.87 words/s\n",
            "[2019-01-06 16:11:41] Ep. 1 : Up. 2200 : Sen. 140,800 : Cost 146.10116577 : Time 62.63s : 2371.82 words/s\n",
            "[2019-01-06 16:12:43] Ep. 1 : Up. 2300 : Sen. 147,200 : Cost 142.20642090 : Time 61.92s : 2349.44 words/s\n",
            "[2019-01-06 16:13:45] Ep. 1 : Up. 2400 : Sen. 153,600 : Cost 142.38726807 : Time 62.00s : 2362.47 words/s\n",
            "[2019-01-06 16:14:47] Ep. 1 : Up. 2500 : Sen. 160,000 : Cost 142.17785645 : Time 62.31s : 2364.27 words/s\n",
            "[2019-01-06 16:15:50] Ep. 1 : Up. 2600 : Sen. 166,400 : Cost 142.83961487 : Time 62.86s : 2368.14 words/s\n",
            "[2019-01-06 16:16:52] Ep. 1 : Up. 2700 : Sen. 172,800 : Cost 140.79965210 : Time 62.29s : 2361.80 words/s\n",
            "[2019-01-06 16:17:55] Ep. 1 : Up. 2800 : Sen. 179,200 : Cost 141.30589294 : Time 62.79s : 2360.79 words/s\n",
            "[2019-01-06 16:18:57] Ep. 1 : Up. 2900 : Sen. 185,600 : Cost 137.43957520 : Time 61.80s : 2357.60 words/s\n",
            "[2019-01-06 16:19:59] Ep. 1 : Up. 3000 : Sen. 192,000 : Cost 138.44000244 : Time 62.43s : 2357.63 words/s\n",
            "[2019-01-06 16:21:01] Ep. 1 : Up. 3100 : Sen. 198,400 : Cost 136.78752136 : Time 61.74s : 2358.56 words/s\n",
            "[2019-01-06 16:22:03] Ep. 1 : Up. 3200 : Sen. 204,800 : Cost 135.64587402 : Time 61.83s : 2369.57 words/s\n",
            "[2019-01-06 16:23:05] Ep. 1 : Up. 3300 : Sen. 211,200 : Cost 135.50785828 : Time 62.02s : 2361.76 words/s\n",
            "[2019-01-06 16:24:08] Ep. 1 : Up. 3400 : Sen. 217,600 : Cost 136.11787415 : Time 62.66s : 2360.66 words/s\n",
            "[2019-01-06 16:25:10] Ep. 1 : Up. 3500 : Sen. 224,000 : Cost 134.94732666 : Time 62.35s : 2355.88 words/s\n",
            "^C\n"
          ],
          "name": "stdout"
        }
      ]
    }
  ]
}