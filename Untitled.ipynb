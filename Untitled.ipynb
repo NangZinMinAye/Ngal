{
  "nbformat": 4,
  "nbformat_minor": 0,
  "metadata": {
    "colab": {
      "provenance": [],
      "mount_file_id": "1lXCZnZMiuYoXs2rJmAO8f60OcjPYVvaX",
      "authorship_tag": "ABX9TyOdRJmaTM+yGdNV95qnTU4l",
      "include_colab_link": true
    },
    "kernelspec": {
      "name": "python3",
      "display_name": "Python 3"
    },
    "language_info": {
      "name": "python"
    },
    "accelerator": "GPU",
    "gpuClass": "standard"
  },
  "cells": [
    {
      "cell_type": "markdown",
      "metadata": {
        "id": "view-in-github",
        "colab_type": "text"
      },
      "source": [
        "<a href=\"https://colab.research.google.com/github/NangZinMinAye/Ngal/blob/main/Untitled.ipynb\" target=\"_parent\"><img src=\"https://colab.research.google.com/assets/colab-badge.svg\" alt=\"Open In Colab\"/></a>"
      ]
    },
    {
      "cell_type": "code",
      "execution_count": null,
      "metadata": {
        "id": "cXjMFsfBlKK3"
      },
      "outputs": [],
      "source": [
        "!apt install sudo"
      ]
    },
    {
      "cell_type": "code",
      "source": [
        "from google.colab import drive\n",
        "drive.mount('/content/drive')"
      ],
      "metadata": {
        "colab": {
          "base_uri": "https://localhost:8080/"
        },
        "id": "LTWO2Lqo0lzY",
        "outputId": "e153f793-1b56-449d-facb-b4446ac9d934"
      },
      "execution_count": 2,
      "outputs": [
        {
          "output_type": "stream",
          "name": "stdout",
          "text": [
            "Drive already mounted at /content/drive; to attempt to forcibly remount, call drive.mount(\"/content/drive\", force_remount=True).\n"
          ]
        }
      ]
    },
    {
      "cell_type": "code",
      "source": [],
      "metadata": {
        "id": "8Ts91wF_BBp2"
      },
      "execution_count": null,
      "outputs": []
    },
    {
      "cell_type": "code",
      "source": [
        "!rm -rf ./marian"
      ],
      "metadata": {
        "id": "lHe8NVZNlkwl"
      },
      "execution_count": null,
      "outputs": []
    },
    {
      "cell_type": "code",
      "source": [
        "!sudo apt install cmake g++ make"
      ],
      "metadata": {
        "id": "TBMXRJXJluXS"
      },
      "execution_count": null,
      "outputs": []
    },
    {
      "cell_type": "code",
      "source": [
        "!sudo apt-get install git cmake build-essential libboost-system-dev libprotobuf10 protobuf-compiler libprotobuf-dev openssl libssl-dev libgoogle-perftools-dev"
      ],
      "metadata": {
        "id": "5NvBIMQ5l63G"
      },
      "execution_count": null,
      "outputs": []
    },
    {
      "cell_type": "code",
      "source": [
        "%cd /usr/lib/"
      ],
      "metadata": {
        "colab": {
          "base_uri": "https://localhost:8080/"
        },
        "id": "HK8zmcPCl-E4",
        "outputId": "5c43ef02-5661-4797-e684-70e8b08145d6"
      },
      "execution_count": 5,
      "outputs": [
        {
          "output_type": "stream",
          "name": "stdout",
          "text": [
            "/usr/lib\n"
          ]
        }
      ]
    },
    {
      "cell_type": "code",
      "source": [
        "!wget https://ftp.gnu.org/pub/gnu/libiconv/libiconv-1.17.tar.gz"
      ],
      "metadata": {
        "id": "_6zKtgcXmBiI"
      },
      "execution_count": null,
      "outputs": []
    },
    {
      "cell_type": "code",
      "source": [
        "!tar -xvzf libiconv-1.17.tar.gz"
      ],
      "metadata": {
        "id": "20QfwrzgmEiY"
      },
      "execution_count": null,
      "outputs": []
    },
    {
      "cell_type": "code",
      "source": [
        "%cd libiconv-1.17"
      ],
      "metadata": {
        "id": "BN9occ0wmFRJ"
      },
      "execution_count": null,
      "outputs": []
    },
    {
      "cell_type": "code",
      "source": [
        "!./configure --prefix=/usr/lib/"
      ],
      "metadata": {
        "id": "NhbCns4SmKfc"
      },
      "execution_count": null,
      "outputs": []
    },
    {
      "cell_type": "code",
      "source": [
        "!pwd"
      ],
      "metadata": {
        "colab": {
          "base_uri": "https://localhost:8080/"
        },
        "id": "NyY5Hturm89n",
        "outputId": "34b9af44-143d-4437-a807-02a029237596"
      },
      "execution_count": null,
      "outputs": [
        {
          "output_type": "stream",
          "name": "stdout",
          "text": [
            "/usr/lib/libiconv-1.17\n"
          ]
        }
      ]
    },
    {
      "cell_type": "code",
      "source": [
        "!ls"
      ],
      "metadata": {
        "colab": {
          "base_uri": "https://localhost:8080/"
        },
        "id": "AWFWVr6EnAjj",
        "outputId": "e0a80320-8773-48d6-b24b-7b98321513b7"
      },
      "execution_count": null,
      "outputs": [
        {
          "output_type": "stream",
          "name": "stdout",
          "text": [
            "ABOUT-NLS    config.status  extras\t     libtool\t     os2       THANKS\n",
            "aclocal.m4   configure\t    gnulib-local     m4\t\t     po        tools\n",
            "AUTHORS      configure.ac   HACKING\t     Makefile\t     README    windows\n",
            "build-aux    COPYING\t    include\t     Makefile.devel  src       woe32dll\n",
            "ChangeLog    COPYING.LIB    INSTALL.generic  Makefile.in     srclib\n",
            "config.h     DEPENDENCIES   INSTALL.windows  man\t     srcm4\n",
            "config.h.in  DESIGN\t    lib\t\t     NEWS\t     stamp-h1\n",
            "config.log   doc\t    libcharset\t     NOTES\t     tests\n"
          ]
        }
      ]
    },
    {
      "cell_type": "code",
      "source": [
        "!rm -rf ./marian"
      ],
      "metadata": {
        "id": "GrhOcgsznKsN"
      },
      "execution_count": null,
      "outputs": []
    },
    {
      "cell_type": "code",
      "source": [
        "%cd /content/"
      ],
      "metadata": {
        "colab": {
          "base_uri": "https://localhost:8080/"
        },
        "id": "URMBNrJ_nij6",
        "outputId": "ead7977d-80e5-4219-a84a-dad808dbdf40"
      },
      "execution_count": 10,
      "outputs": [
        {
          "output_type": "stream",
          "name": "stdout",
          "text": [
            "/content\n"
          ]
        }
      ]
    },
    {
      "cell_type": "code",
      "source": [
        "!git clone https://github.com/marian-nmt/marian.git"
      ],
      "metadata": {
        "id": "GhAqZcNumeIh"
      },
      "execution_count": null,
      "outputs": []
    },
    {
      "cell_type": "code",
      "source": [
        "%cd marian/"
      ],
      "metadata": {
        "colab": {
          "base_uri": "https://localhost:8080/"
        },
        "id": "WHWDevqFnss8",
        "outputId": "737a9f61-edb5-4637-e03b-336ba1edd3a0"
      },
      "execution_count": 12,
      "outputs": [
        {
          "output_type": "stream",
          "name": "stdout",
          "text": [
            "/content/marian\n"
          ]
        }
      ]
    },
    {
      "cell_type": "code",
      "source": [
        "!mkdir build/"
      ],
      "metadata": {
        "id": "2nH948J-nvlS"
      },
      "execution_count": 13,
      "outputs": []
    },
    {
      "cell_type": "code",
      "source": [
        "%cd build"
      ],
      "metadata": {
        "colab": {
          "base_uri": "https://localhost:8080/"
        },
        "id": "36USJtl0nzBe",
        "outputId": "4b7ff735-c121-497b-86e9-660327328e9e"
      },
      "execution_count": 14,
      "outputs": [
        {
          "output_type": "stream",
          "name": "stdout",
          "text": [
            "/content/marian/build\n"
          ]
        }
      ]
    },
    {
      "cell_type": "code",
      "source": [
        "!cmake .."
      ],
      "metadata": {
        "id": "jCtVgFGGnqMG",
        "colab": {
          "base_uri": "https://localhost:8080/"
        },
        "outputId": "952bfcbe-6ee5-467f-f4c4-046a292e6ed0"
      },
      "execution_count": 15,
      "outputs": [
        {
          "output_type": "stream",
          "name": "stdout",
          "text": [
            "-- The CXX compiler identification is GNU 7.5.0\n",
            "-- The C compiler identification is GNU 7.5.0\n",
            "-- Detecting CXX compiler ABI info\n",
            "-- Detecting CXX compiler ABI info - done\n",
            "-- Check for working CXX compiler: /usr/bin/c++ - skipped\n",
            "-- Detecting CXX compile features\n",
            "-- Detecting CXX compile features - done\n",
            "-- Detecting C compiler ABI info\n",
            "-- Detecting C compiler ABI info - done\n",
            "-- Check for working C compiler: /usr/bin/cc - skipped\n",
            "-- Detecting C compile features\n",
            "-- Detecting C compile features - done\n",
            "-- Project name: marian\n",
            "-- Project version: v1.11.0+f00d0621\n",
            "Submodule 'examples' (https://github.com/marian-nmt/marian-examples) registered for path 'examples'\n",
            "Submodule 'regression-tests' (https://github.com/marian-nmt/marian-regression-tests) registered for path 'regression-tests'\n",
            "Submodule 'src/3rd_party/fbgemm' (https://github.com/marian-nmt/FBGEMM) registered for path 'src/3rd_party/fbgemm'\n",
            "Submodule 'src/3rd_party/intgemm' (https://github.com/marian-nmt/intgemm/) registered for path 'src/3rd_party/intgemm'\n",
            "Submodule 'src/3rd_party/nccl' (https://github.com/marian-nmt/nccl) registered for path 'src/3rd_party/nccl'\n",
            "Submodule 'src/3rd_party/sentencepiece' (https://github.com/marian-nmt/sentencepiece) registered for path 'src/3rd_party/sentencepiece'\n",
            "Submodule 'src/3rd_party/simple-websocket-server' (https://github.com/marian-nmt/Simple-WebSocket-Server) registered for path 'src/3rd_party/simple-websocket-server'\n",
            "Cloning into '/content/marian/examples'...\n",
            "Cloning into '/content/marian/regression-tests'...\n",
            "Cloning into '/content/marian/src/3rd_party/fbgemm'...\n",
            "Cloning into '/content/marian/src/3rd_party/intgemm'...\n",
            "Cloning into '/content/marian/src/3rd_party/nccl'...\n",
            "Cloning into '/content/marian/src/3rd_party/sentencepiece'...\n",
            "Cloning into '/content/marian/src/3rd_party/simple-websocket-server'...\n",
            "Submodule path 'examples': checked out '6d5921cc7de91f4e915b59e9c52c9a76c4e99b00'\n",
            "Submodule path 'regression-tests': checked out '0716f4e012d1e3f7543bffa8aecc97ce9c903e17'\n",
            "Submodule path 'src/3rd_party/fbgemm': checked out '6f45243cb8ab7d7ab921af18d313ae97144618b8'\n",
            "Submodule 'third_party/asmjit' (https://github.com/asmjit/asmjit.git) registered for path 'src/3rd_party/fbgemm/third_party/asmjit'\n",
            "Submodule 'third_party/cpuinfo' (https://github.com/pytorch/cpuinfo) registered for path 'src/3rd_party/fbgemm/third_party/cpuinfo'\n",
            "Submodule 'third_party/googletest' (https://github.com/google/googletest) registered for path 'src/3rd_party/fbgemm/third_party/googletest'\n",
            "Cloning into '/content/marian/src/3rd_party/fbgemm/third_party/asmjit'...\n",
            "Cloning into '/content/marian/src/3rd_party/fbgemm/third_party/cpuinfo'...\n",
            "Cloning into '/content/marian/src/3rd_party/fbgemm/third_party/googletest'...\n",
            "Submodule path 'src/3rd_party/fbgemm/third_party/asmjit': checked out '4da474ac9aa2689e88d5e40a2f37628f302d7e3c'\n",
            "Submodule path 'src/3rd_party/fbgemm/third_party/cpuinfo': checked out 'd5e37adf1406cf899d7d9ec1d317c47506ccb970'\n",
            "Submodule path 'src/3rd_party/fbgemm/third_party/googletest': checked out '0fc5466dbb9e623029b1ada539717d10bd45e99e'\n",
            "Submodule path 'src/3rd_party/intgemm': checked out '8abde25b13c3ab210c0dec8e23f4944e3953812d'\n",
            "Submodule path 'src/3rd_party/nccl': checked out '5dcf7751494f9d04057bfc6b4a2b64611bc12253'\n",
            "Submodule path 'src/3rd_party/sentencepiece': checked out 'c307b874deb5ea896db8f93506e173353e66d4d3'\n",
            "Submodule path 'src/3rd_party/simple-websocket-server': checked out '1d7e84aeb3f1ebdc78f6965d79ad3ca3003789fe'\n",
            "\u001b[33mCMake Warning at CMakeLists.txt:79 (message):\n",
            "  CMAKE_BUILD_TYPE not set; setting to Release\n",
            "\n",
            "\u001b[0m\n",
            "-- Building with -march=native and intrinsics will be chosen automatically by the compiler to match the current machine.\n",
            "-- Checking support for CPU intrinsics\n",
            "-- Could not find hardware support for AVX512 on this machine.\n",
            "-- Looking for pthread.h\n",
            "-- Looking for pthread.h - found\n",
            "-- Performing Test CMAKE_HAVE_LIBC_PTHREAD\n",
            "-- Performing Test CMAKE_HAVE_LIBC_PTHREAD - Failed\n",
            "-- Looking for pthread_create in pthreads\n",
            "-- Looking for pthread_create in pthreads - not found\n",
            "-- Looking for pthread_create in pthread\n",
            "-- Looking for pthread_create in pthread - found\n",
            "-- Found Threads: TRUE  \n",
            "-- Found CUDA: /usr/local/cuda (found suitable version \"11.2\", minimum required is \"9.0\") \n",
            "-- Compiling code for Pascal GPUs\n",
            "-- Compiling code for Volta GPUs\n",
            "-- Compiling code for Turing GPUs\n",
            "-- Compiling code for Ampere GPUs\n",
            "-- Compiling code for Ampere RTX GPUs\n",
            "-- Found CUDA libraries: /usr/local/cuda/lib64/libcurand.so;/usr/local/cuda/lib64/libcusparse.so;/usr/local/cuda/lib64/libcublas.so;/usr/local/cuda/lib64/libcublasLt.so\n",
            "-- Found Tcmalloc: /usr/lib/x86_64-linux-gnu/libtcmalloc_minimal.so\n",
            "-- Could NOT find MKL (missing: MKL_LIBRARIES MKL_INCLUDE_DIRS MKL_INTERFACE_LIBRARY MKL_SEQUENTIAL_LAYER_LIBRARY MKL_CORE_LIBRARY) \n",
            "-- Looking for sgemm_\n",
            "-- Looking for sgemm_ - not found\n",
            "-- Looking for sgemm_\n",
            "-- Looking for sgemm_ - found\n",
            "-- Found BLAS: /usr/local/lib/libmkl_intel_lp64.so;/usr/local/lib/libmkl_intel_thread.so;/usr/local/lib/libmkl_core.so;/usr/local/lib/libiomp5.so;-lpthread;-lm;-ldl  \n",
            "-- Checking for [openblas]\n",
            "-- Checking for [openblas] -- includes found\n",
            "-- Looking for cblas_sgemm\n",
            "-- Looking for cblas_sgemm - found\n",
            "-- Checking for [openblas] -- libraries found\n",
            "-- CBLAS library found: /usr/lib/x86_64-linux-gnu/libopenblas.so\n",
            "-- cblas.h include directory: /usr/include/x86_64-linux-gnu\n",
            "\u001b[33mCMake Warning at src/3rd_party/intgemm/CMakeLists.txt:33 (message):\n",
            "  \u001b[33mNot building AVX512VNNI-based multiplication because your compiler is\n",
            "  too old.\n",
            "\n",
            "  For details rerun cmake with --debug-trycompile then try to build in\n",
            "  compile_tests/CMakeFiles/CMakeTmp.\u001b[m\n",
            "\n",
            "\u001b[0m\n",
            "-- VERSION: 0.1.94\n",
            "-- Found TCMalloc: /usr/lib/x86_64-linux-gnu/libtcmalloc_minimal.so\n",
            "-- Could NOT find Doxygen (missing: DOXYGEN_EXECUTABLE) \n",
            "-- Configuring done\n",
            "-- Generating done\n",
            "-- Build files have been written to: /content/marian/build\n"
          ]
        }
      ]
    },
    {
      "cell_type": "code",
      "source": [
        "!make -j 8"
      ],
      "metadata": {
        "colab": {
          "base_uri": "https://localhost:8080/"
        },
        "id": "vnc1Uz5Ln3Lm",
        "outputId": "e8c725a1-2bda-40d4-a345-b6409639bb7f"
      },
      "execution_count": 18,
      "outputs": [
        {
          "output_type": "stream",
          "name": "stdout",
          "text": [
            "[  3%] Built target nccl_install\n",
            "[  3%] Built target marian_version\n",
            "[  6%] Built target pathie-cpp\n",
            "[  8%] Built target SQLiteCpp\n",
            "[ 13%] Built target sentencepiece_train-static\n",
            "[ 19%] Built target zlib\n",
            "[ 31%] Built target libyaml-cpp\n",
            "[ 33%] Built target faiss\n",
            "[ 34%] Built target intgemm\n",
            "[ 34%] Built target 3rd_party_installs\n",
            "[ 50%] Built target sentencepiece-static\n",
            "[ 51%] Built target spm_encode\n",
            "[ 52%] Built target spm_normalize\n",
            "[ 53%] Built target spm_export_vocab\n",
            "[ 54%] Built target spm_train\n",
            "[ 54%] Built target spm_decode\n",
            "[ 60%] Built target marian_cuda\n",
            "\u001b[35m\u001b[1mConsolidate compiler generated dependencies of target marian\u001b[0m\n",
            "[ 60%] \u001b[32mBuilding CXX object src/CMakeFiles/marian.dir/data/sentencepiece_vocab.cpp.o\u001b[0m\n",
            "[ 60%] \u001b[32mBuilding CXX object src/CMakeFiles/marian.dir/data/shortlist.cpp.o\u001b[0m\n",
            "[ 60%] \u001b[32mBuilding CXX object src/CMakeFiles/marian.dir/common/config_parser.cpp.o\u001b[0m\n",
            "[ 61%] \u001b[32mBuilding CXX object src/CMakeFiles/marian.dir/data/corpus_sqlite.cpp.o\u001b[0m\n",
            "[ 62%] \u001b[32mBuilding CXX object src/CMakeFiles/marian.dir/data/text_input.cpp.o\u001b[0m\n",
            "[ 62%] \u001b[32mBuilding CXX object src/CMakeFiles/marian.dir/data/corpus.cpp.o\u001b[0m\n",
            "[ 63%] \u001b[32mBuilding CXX object src/CMakeFiles/marian.dir/data/corpus_nbest.cpp.o\u001b[0m\n",
            "[ 63%] \u001b[32mBuilding CXX object src/CMakeFiles/marian.dir/tensors/tensor.cpp.o\u001b[0m\n",
            "[ 64%] \u001b[32mBuilding CXX object src/CMakeFiles/marian.dir/graph/expression_graph.cpp.o\u001b[0m\n",
            "[ 64%] \u001b[32mBuilding CXX object src/CMakeFiles/marian.dir/graph/expression_operators.cpp.o\u001b[0m\n",
            "[ 64%] \u001b[32mBuilding CXX object src/CMakeFiles/marian.dir/graph/node.cpp.o\u001b[0m\n",
            "[ 65%] \u001b[32mBuilding CXX object src/CMakeFiles/marian.dir/graph/node_operators.cpp.o\u001b[0m\n",
            "[ 65%] \u001b[32mBuilding CXX object src/CMakeFiles/marian.dir/graph/node_initializers.cpp.o\u001b[0m\n",
            "[ 66%] \u001b[32mBuilding CXX object src/CMakeFiles/marian.dir/layers/logits.cpp.o\u001b[0m\n",
            "[ 66%] \u001b[32mBuilding CXX object src/CMakeFiles/marian.dir/layers/lsh.cpp.o\u001b[0m\n",
            "[ 66%] \u001b[32mBuilding CXX object src/CMakeFiles/marian.dir/rnn/cells.cpp.o\u001b[0m\n",
            "[ 67%] \u001b[32mBuilding CXX object src/CMakeFiles/marian.dir/rnn/attention.cpp.o\u001b[0m\n",
            "[ 67%] \u001b[32mBuilding CXX object src/CMakeFiles/marian.dir/optimizers/quantizer.cpp.o\u001b[0m\n",
            "[ 67%] \u001b[32mBuilding CXX object src/CMakeFiles/marian.dir/optimizers/optimizers.cpp.o\u001b[0m\n",
            "[ 67%] \u001b[32mBuilding CXX object src/CMakeFiles/marian.dir/optimizers/exponential_smoothing.cpp.o\u001b[0m\n",
            "[ 68%] \u001b[32mBuilding CXX object src/CMakeFiles/marian.dir/models/model_factory.cpp.o\u001b[0m\n",
            "[ 68%] \u001b[32mBuilding CXX object src/CMakeFiles/marian.dir/models/encoder_decoder.cpp.o\u001b[0m\n",
            "[ 69%] \u001b[32mBuilding CXX object src/CMakeFiles/marian.dir/models/transformer_stub.cpp.o\u001b[0m\n",
            "[ 69%] \u001b[32mBuilding CXX object src/CMakeFiles/marian.dir/models/costs.cpp.o\u001b[0m\n",
            "[ 69%] \u001b[32mBuilding CXX object src/CMakeFiles/marian.dir/translator/beam_search.cpp.o\u001b[0m\n",
            "[ 69%] \u001b[32mBuilding CXX object src/CMakeFiles/marian.dir/translator/output_printer.cpp.o\u001b[0m\n",
            "[ 69%] \u001b[32mBuilding CXX object src/CMakeFiles/marian.dir/translator/helpers.cpp.o\u001b[0m\n",
            "[ 70%] \u001b[32mBuilding CXX object src/CMakeFiles/marian.dir/translator/scorers.cpp.o\u001b[0m\n",
            "[ 70%] \u001b[32mBuilding CXX object src/CMakeFiles/marian.dir/training/graph_group_async.cpp.o\u001b[0m\n",
            "[ 70%] \u001b[32mBuilding CXX object src/CMakeFiles/marian.dir/training/graph_group_sync.cpp.o\u001b[0m\n",
            "[ 71%] \u001b[32mBuilding CXX object src/CMakeFiles/marian.dir/training/graph_group.cpp.o\u001b[0m\n",
            "[ 71%] \u001b[32mBuilding CXX object src/CMakeFiles/marian.dir/training/graph_group_singleton.cpp.o\u001b[0m\n",
            "[ 72%] \u001b[32mBuilding CXX object src/CMakeFiles/marian.dir/training/validator.cpp.o\u001b[0m\n",
            "[ 72%] \u001b[32mBuilding CXX object src/CMakeFiles/marian.dir/training/communicator.cpp.o\u001b[0m\n",
            "[ 72%] \u001b[32mBuilding CXX object src/CMakeFiles/marian.dir/microsoft/quicksand.cpp.o\u001b[0m\n",
            "[ 72%] \u001b[32mBuilding CXX object src/CMakeFiles/marian.dir/microsoft/cosmos.cpp.o\u001b[0m\n",
            "[ 73%] \u001b[32m\u001b[1mLinking CXX static library ../libmarian.a\u001b[0m\n",
            "[ 96%] Built target marian\n",
            "[ 96%] \u001b[32mBuilding CXX object src/CMakeFiles/marian_train.dir/command/marian_main.cpp.o\u001b[0m\n",
            "[ 96%] \u001b[32mBuilding CXX object src/CMakeFiles/marian_conv.dir/command/marian_conv.cpp.o\u001b[0m\n",
            "[ 96%] \u001b[32mBuilding CXX object src/CMakeFiles/marian_scorer.dir/command/marian_scorer.cpp.o\u001b[0m\n",
            "[ 96%] \u001b[32mBuilding CXX object src/CMakeFiles/marian_decoder.dir/command/marian_decoder.cpp.o\u001b[0m\n",
            "[ 96%] \u001b[32mBuilding CXX object src/CMakeFiles/marian_vocab.dir/command/marian_vocab.cpp.o\u001b[0m\n",
            "[ 97%] \u001b[32m\u001b[1mLinking CXX executable ../marian-vocab\u001b[0m\n",
            "[ 97%] Built target marian_vocab\n",
            "[ 98%] \u001b[32m\u001b[1mLinking CXX executable ../marian-decoder\u001b[0m\n",
            "[ 98%] \u001b[32m\u001b[1mLinking CXX executable ../marian-conv\u001b[0m\n",
            "[ 99%] \u001b[32m\u001b[1mLinking CXX executable ../marian-scorer\u001b[0m\n",
            "[ 99%] Built target marian_conv\n",
            "[ 99%] Built target marian_decoder\n",
            "[ 99%] Built target marian_scorer\n",
            "[100%] \u001b[32m\u001b[1mLinking CXX executable ../marian\u001b[0m\n",
            "[100%] Built target marian_train\n"
          ]
        }
      ]
    },
    {
      "cell_type": "code",
      "source": [],
      "metadata": {
        "id": "WQIIQRHaF9xC"
      },
      "execution_count": null,
      "outputs": []
    },
    {
      "cell_type": "code",
      "source": [],
      "metadata": {
        "id": "u8e_V2c6pWRi"
      },
      "execution_count": null,
      "outputs": []
    },
    {
      "cell_type": "code",
      "source": [
        "!nvidia-smi"
      ],
      "metadata": {
        "colab": {
          "base_uri": "https://localhost:8080/"
        },
        "id": "DNGBrvJdrbc2",
        "outputId": "26c39c6a-eed2-44d5-919f-2254dfdf4e0c"
      },
      "execution_count": null,
      "outputs": [
        {
          "output_type": "stream",
          "name": "stdout",
          "text": [
            "Sun Jan  8 18:31:53 2023       \n",
            "+-----------------------------------------------------------------------------+\n",
            "| NVIDIA-SMI 460.32.03    Driver Version: 460.32.03    CUDA Version: 11.2     |\n",
            "|-------------------------------+----------------------+----------------------+\n",
            "| GPU  Name        Persistence-M| Bus-Id        Disp.A | Volatile Uncorr. ECC |\n",
            "| Fan  Temp  Perf  Pwr:Usage/Cap|         Memory-Usage | GPU-Util  Compute M. |\n",
            "|                               |                      |               MIG M. |\n",
            "|===============================+======================+======================|\n",
            "|   0  Tesla T4            Off  | 00000000:00:04.0 Off |                    0 |\n",
            "| N/A   64C    P0    29W /  70W |      0MiB / 15109MiB |      0%      Default |\n",
            "|                               |                      |                  N/A |\n",
            "+-------------------------------+----------------------+----------------------+\n",
            "                                                                               \n",
            "+-----------------------------------------------------------------------------+\n",
            "| Processes:                                                                  |\n",
            "|  GPU   GI   CI        PID   Type   Process name                  GPU Memory |\n",
            "|        ID   ID                                                   Usage      |\n",
            "|=============================================================================|\n",
            "|  No running processes found                                                 |\n",
            "+-----------------------------------------------------------------------------+\n"
          ]
        }
      ]
    },
    {
      "cell_type": "code",
      "source": [
        "!pwd"
      ],
      "metadata": {
        "colab": {
          "base_uri": "https://localhost:8080/"
        },
        "id": "4rmYyG2aYtlW",
        "outputId": "d8b55a61-cc54-4299-9960-a836dde6ffb5"
      },
      "execution_count": null,
      "outputs": [
        {
          "output_type": "stream",
          "name": "stdout",
          "text": [
            "/content/marian/build\n"
          ]
        }
      ]
    },
    {
      "cell_type": "code",
      "source": [
        "%cd ..\n"
      ],
      "metadata": {
        "colab": {
          "base_uri": "https://localhost:8080/"
        },
        "id": "CkleKyQ_pg9J",
        "outputId": "0feff724-a777-4a59-c575-c1c9e87b6751"
      },
      "execution_count": 19,
      "outputs": [
        {
          "output_type": "stream",
          "name": "stdout",
          "text": [
            "/content/marian\n"
          ]
        }
      ]
    },
    {
      "cell_type": "code",
      "source": [
        "!ls"
      ],
      "metadata": {
        "colab": {
          "base_uri": "https://localhost:8080/"
        },
        "id": "J2a-_4gcY3QT",
        "outputId": "49afd586-bdcb-4394-bb33-d8739f01cbfb"
      },
      "execution_count": 20,
      "outputs": [
        {
          "output_type": "stream",
          "name": "stdout",
          "text": [
            "azure-pipelines.yml  CMakeLists.txt\t doc\t      README.md\t\tVERSION\n",
            "build\t\t     CMakeSettings.json  Doxyfile.in  regression-tests\tvs\n",
            "CHANGELOG.md\t     contrib\t\t examples     scripts\n",
            "cmake\t\t     CONTRIBUTING.md\t LICENSE.md   src\n"
          ]
        }
      ]
    },
    {
      "cell_type": "code",
      "source": [
        "%cd examples/"
      ],
      "metadata": {
        "colab": {
          "base_uri": "https://localhost:8080/"
        },
        "id": "g0UOvmG6Y5_w",
        "outputId": "67744de0-30f1-418a-9ac2-17d229dcebd5"
      },
      "execution_count": 21,
      "outputs": [
        {
          "output_type": "stream",
          "name": "stdout",
          "text": [
            "/content/marian/examples\n"
          ]
        }
      ]
    },
    {
      "cell_type": "code",
      "source": [
        "%cd training-basics"
      ],
      "metadata": {
        "colab": {
          "base_uri": "https://localhost:8080/"
        },
        "id": "3_sm3OIDY85n",
        "outputId": "9843930d-117d-4230-8fa8-f73cf3e61bd5"
      },
      "execution_count": 22,
      "outputs": [
        {
          "output_type": "stream",
          "name": "stdout",
          "text": [
            "/content/marian/examples/training-basics\n"
          ]
        }
      ]
    },
    {
      "cell_type": "code",
      "source": [
        "!pwd"
      ],
      "metadata": {
        "colab": {
          "base_uri": "https://localhost:8080/"
        },
        "id": "Oo0Skl9Jsy-K",
        "outputId": "85ad8c8a-63cc-4d2d-9035-6f51b7f04de0"
      },
      "execution_count": null,
      "outputs": [
        {
          "output_type": "stream",
          "name": "stdout",
          "text": [
            "/content/marian/examples/training-basics\n"
          ]
        }
      ]
    },
    {
      "cell_type": "code",
      "source": [
        "%cd ..\n"
      ],
      "metadata": {
        "colab": {
          "base_uri": "https://localhost:8080/"
        },
        "id": "jNok3LIYtPDl",
        "outputId": "6dec2b2c-2d6b-4bb0-80a9-194a884432a1"
      },
      "execution_count": 23,
      "outputs": [
        {
          "output_type": "stream",
          "name": "stdout",
          "text": [
            "/content/marian/examples\n"
          ]
        }
      ]
    },
    {
      "cell_type": "code",
      "source": [
        "%cd tools"
      ],
      "metadata": {
        "colab": {
          "base_uri": "https://localhost:8080/"
        },
        "id": "vX0-Am3OtStG",
        "outputId": "ba40d145-6369-4c79-8169-89ee6d14e4f4"
      },
      "execution_count": 24,
      "outputs": [
        {
          "output_type": "stream",
          "name": "stdout",
          "text": [
            "/content/marian/examples/tools\n"
          ]
        }
      ]
    },
    {
      "cell_type": "code",
      "source": [
        "!make all"
      ],
      "metadata": {
        "colab": {
          "base_uri": "https://localhost:8080/"
        },
        "id": "qTCb69HZtX32",
        "outputId": "2974a761-c894-492e-8aa7-4c0fbebc7349"
      },
      "execution_count": 25,
      "outputs": [
        {
          "output_type": "stream",
          "name": "stdout",
          "text": [
            "git clone https://github.com/marian-nmt/moses-scripts\n",
            "Cloning into 'moses-scripts'...\n",
            "remote: Enumerating objects: 88, done.\u001b[K\n",
            "remote: Total 88 (delta 0), reused 0 (delta 0), pack-reused 88\u001b[K\n",
            "Unpacking objects: 100% (88/88), done.\n",
            "git clone https://github.com/rsennrich/subword-nmt\n",
            "Cloning into 'subword-nmt'...\n",
            "remote: Enumerating objects: 597, done.\u001b[K\n",
            "remote: Counting objects: 100% (21/21), done.\u001b[K\n",
            "remote: Compressing objects: 100% (17/17), done.\u001b[K\n",
            "remote: Total 597 (delta 8), reused 12 (delta 4), pack-reused 576\u001b[K\n",
            "Receiving objects: 100% (597/597), 252.23 KiB | 19.40 MiB/s, done.\n",
            "Resolving deltas: 100% (357/357), done.\n",
            "git clone https://github.com/marian-nmt/sacreBLEU -b master\n",
            "Cloning into 'sacreBLEU'...\n",
            "remote: Enumerating objects: 488, done.\u001b[K\n",
            "remote: Counting objects: 100% (37/37), done.\u001b[K\n",
            "remote: Compressing objects: 100% (5/5), done.\u001b[K\n",
            "remote: Total 488 (delta 33), reused 32 (delta 32), pack-reused 451\u001b[K\n",
            "Receiving objects: 100% (488/488), 134.24 KiB | 16.78 MiB/s, done.\n",
            "Resolving deltas: 100% (310/310), done.\n"
          ]
        }
      ]
    },
    {
      "cell_type": "code",
      "source": [
        "%cd .."
      ],
      "metadata": {
        "colab": {
          "base_uri": "https://localhost:8080/"
        },
        "id": "VF6KUQNwtdJe",
        "outputId": "305b09ba-9bf0-4a0b-b21b-7869ec881f4d"
      },
      "execution_count": null,
      "outputs": [
        {
          "output_type": "stream",
          "name": "stdout",
          "text": [
            "/content/marian/examples\n"
          ]
        }
      ]
    },
    {
      "cell_type": "code",
      "source": [
        "%cd training-basics/"
      ],
      "metadata": {
        "colab": {
          "base_uri": "https://localhost:8080/"
        },
        "id": "dv8_BYmxtiqt",
        "outputId": "13600bc1-5e40-48c9-c294-99c5a6696728"
      },
      "execution_count": null,
      "outputs": [
        {
          "output_type": "stream",
          "name": "stdout",
          "text": [
            "/content/marian/examples/training-basics\n"
          ]
        }
      ]
    },
    {
      "cell_type": "code",
      "source": [
        "!bash run-me.sh"
      ],
      "metadata": {
        "colab": {
          "base_uri": "https://localhost:8080/"
        },
        "id": "8XCYjr2Nsw2h",
        "outputId": "e3eec253-84c5-48e9-fb43-4fb83e755e36"
      },
      "execution_count": null,
      "outputs": [
        {
          "output_type": "stream",
          "name": "stdout",
          "text": [
            "Using GPUs: 0\n",
            "#!/bin/bash -v\n",
            "\n",
            "# This sample script preprocesses a sample corpus, including tokenization,\n",
            "# truecasing, and subword segmentation.\n",
            "# For application to a different language pair, change source and target\n",
            "# prefix, optionally the number of BPE operations, and the file names\n",
            "# (currently, data/corpus and data/newsdev2016 are being processed).\n",
            "\n",
            "# In the tokenization step, you will want to remove Romanian-specific\n",
            "# normalization / diacritic removal, and you may want to add your own.\n",
            "# Also, you may want to learn BPE segmentations separately for each language,\n",
            "# especially if they differ in their alphabet\n",
            "\n",
            "# Suffix of source language files\n",
            "SRC=my\n",
            "\n",
            "# Suffix of target language files\n",
            "TRG=en\n",
            "\n",
            "# Number of merge operations. Network vocabulary should be slightly larger (to\n",
            "# include characters), or smaller if the operations are learned on the joint\n",
            "# vocabulary\n",
            "bpe_operations=85000\n",
            "\n",
            "# path to moses decoder: https://github.com/moses-smt/mosesdecoder\n",
            "mosesdecoder=../tools/moses-scripts\n",
            "\n",
            "# path to subword segmentation scripts: https://github.com/rsennrich/subword-nmt\n",
            "subword_nmt=../tools/subword-nmt\n",
            "\n",
            "# tokenize\n",
            "#for prefix in corpus ucsydev ucsytest\n",
            "#do\n",
            "#    cat data/$prefix.$SRC \\\n",
            "#        | $mosesdecoder/scripts/tokenizer/normalize-punctuation.perl -l $SRC \\\n",
            "#        | ./scripts/normalise-romanian.py \\\n",
            "#        | ./scripts/remove-diacritics.py \\\n",
            "#        | $mosesdecoder/scripts/tokenizer/tokenizer.perl -a -l $SRC > data/$prefix.tok.$SRC\n",
            "\n",
            "#    cat data/$prefix.$TRG \\\n",
            "#        | $mosesdecoder/scripts/tokenizer/normalize-punctuation.perl -l $TRG \\\n",
            "#        | $mosesdecoder/scripts/tokenizer/tokenizer.perl -a -l $TRG > data/$prefix.tok.$TRG\n",
            "\n",
            "#done\n",
            "\n",
            "# clean empty and long sentences, and sentences with high source-target ratio (training corpus only)\n",
            "$mosesdecoder/scripts/training/clean-corpus-n.perl data/corpus.tok $SRC $TRG data/corpus.tok.clean 1 80\n",
            "clean-corpus.perl: processing data/corpus.tok.my & .en to data/corpus.tok.clean, cutoff 1-80, ratio 9\n",
            "Error: data/corpus.tok.my does not exist at ../tools/moses-scripts/scripts/training/clean-corpus-n.perl line 58.\n",
            "\n",
            "# train truecaser\n",
            "$mosesdecoder/scripts/recaser/train-truecaser.perl -corpus data/corpus.tok.clean.$SRC -model model/tc.$SRC\n",
            "ERROR: could not open 'data/corpus.tok.clean.my' at ../tools/moses-scripts/scripts/recaser/train-truecaser.perl line 33.\n",
            "$mosesdecoder/scripts/recaser/train-truecaser.perl -corpus data/corpus.tok.clean.$TRG -model model/tc.$TRG\n",
            "ERROR: could not open 'data/corpus.tok.clean.en' at ../tools/moses-scripts/scripts/recaser/train-truecaser.perl line 33.\n",
            "\n",
            "# apply truecaser (cleaned training corpus)\n",
            "for prefix in corpus\n",
            "do\n",
            "    $mosesdecoder/scripts/recaser/truecase.perl -model model/tc.$SRC < data/$prefix.tok.clean.$SRC > data/$prefix.tc.$SRC\n",
            "    $mosesdecoder/scripts/recaser/truecase.perl -model model/tc.$TRG < data/$prefix.tok.clean.$TRG > data/$prefix.tc.$TRG\n",
            "done\n",
            "./scripts/preprocess-data.sh: line 56: data/corpus.tok.clean.my: No such file or directory\n",
            "./scripts/preprocess-data.sh: line 57: data/corpus.tok.clean.en: No such file or directory\n",
            "\n",
            "# apply truecaser (dev/test files)\n",
            "for prefix in ucsydev ucsytest\n",
            "do\n",
            "    $mosesdecoder/scripts/recaser/truecase.perl -model model/tc.$SRC < data/$prefix.tok.$SRC > data/$prefix.tc.$SRC\n",
            "    $mosesdecoder/scripts/recaser/truecase.perl -model model/tc.$TRG < data/$prefix.tok.$TRG > data/$prefix.tc.$TRG\n",
            "done\n",
            "./scripts/preprocess-data.sh: line 63: data/ucsydev.tok.my: No such file or directory\n",
            "./scripts/preprocess-data.sh: line 64: data/ucsydev.tok.en: No such file or directory\n",
            "./scripts/preprocess-data.sh: line 63: data/ucsytest.tok.my: No such file or directory\n",
            "./scripts/preprocess-data.sh: line 64: data/ucsytest.tok.en: No such file or directory\n",
            "\n",
            "# train BPE\n",
            "cat data/corpus.tc.$SRC data/corpus.tc.$TRG | $subword_nmt/learn_bpe.py -s $bpe_operations > model/$SRC$TRG.bpe\n",
            "cat: data/corpus.tc.my: No such file or directory\n",
            "cat: data/corpus.tc.en: No such file or directory\n",
            "../tools/subword-nmt/learn_bpe.py:335: DeprecationWarning: this script's location has moved to /content/marian/examples/tools/subword-nmt/subword_nmt. This symbolic link will be removed in a future version. Please point to the new location, or install the package and use the command 'subword-nmt'\n",
            "  warnings.warn(\n",
            "Traceback (most recent call last):\n",
            "  File \"../tools/subword-nmt/learn_bpe.py\", line 366, in <module>\n",
            "    learn_bpe(args.input, args.output, args.symbols, args.min_frequency, args.verbose, is_dict=args.dict_input, total_symbols=args.total_symbols, num_workers=args.num_workers)\n",
            "  File \"../tools/subword-nmt/learn_bpe.py\", line 302, in learn_bpe\n",
            "    threshold = max(stats.values()) / 10\n",
            "ValueError: max() arg is an empty sequence\n",
            "\n",
            "# apply BPE\n",
            "for prefix in corpus ucsydev ucsytest\n",
            "do\n",
            "    $subword_nmt/apply_bpe.py -c model/$SRC$TRG.bpe < data/$prefix.tc.$SRC > data/$prefix.bpe.$SRC\n",
            "    $subword_nmt/apply_bpe.py -c model/$SRC$TRG.bpe < data/$prefix.tc.$TRG > data/$prefix.bpe.$TRG\n",
            "done\n",
            "./scripts/preprocess-data.sh: line 73: data/corpus.tc.my: No such file or directory\n",
            "./scripts/preprocess-data.sh: line 74: data/corpus.tc.en: No such file or directory\n",
            "./scripts/preprocess-data.sh: line 73: data/ucsydev.tc.my: No such file or directory\n",
            "./scripts/preprocess-data.sh: line 74: data/ucsydev.tc.en: No such file or directory\n",
            "./scripts/preprocess-data.sh: line 73: data/ucsytest.tc.my: No such file or directory\n",
            "./scripts/preprocess-data.sh: line 74: data/ucsytest.tc.en: No such file or directory\n",
            "src/tcmalloc.cc:283] Attempt to free invalid pointer 0x558057526020 \n",
            "run-me.sh: line 70: 60052 Aborted                 (core dumped) $MARIAN_TRAIN --devices $GPUS --type amun --model model/model.npz --train-sets data/corpus.bpe.my data/corpus.bpe.en --vocabs model/vocab.my.yml model/vocab.en.yml --dim-vocabs 66000 50000 --mini-batch-fit -w 3000 --layer-normalization --dropout-rnn 0.2 --dropout-src 0.1 --dropout-trg 0.1 --early-stopping 5 --valid-freq 10000 --save-freq 10000 --disp-freq 1000 --valid-metrics cross-entropy translation --valid-sets data/ucsydev.bpe.my data/ucsydev.bpe.en --valid-script-path \"bash ./scripts/validate.sh\" --log model/train.log --valid-log model/valid.log --overwrite --keep-best --seed 1111 --exponential-smoothing --normalize=1 --beam-size=12 --quiet-translation\n",
            "cat: data/ucsydev.bpe.my: No such file or directory\n",
            "src/tcmalloc.cc:283] Attempt to free invalid pointer 0x55cf77e8a020 \n",
            "Detokenizer Version $Revision: 4134 $\n",
            "Language: en\n",
            "cat: data/ucsytest.bpe.my: No such file or directory\n",
            "src/tcmalloc.cc:283] Attempt to free invalid pointer 0x55861d364020 \n",
            "Detokenizer Version $Revision: 4134 $\n",
            "Language: en\n",
            "Use of uninitialized value $length_reference in numeric eq (==) at ../tools/moses-scripts/scripts/generic/multi-bleu-detok.perl line 157.\n",
            "BLEU = 0, 0/0/0/0 (BP=0, ratio=0, hyp_len=0, ref_len=0)\n",
            "run-me.sh: line 92: data/ucsytest.my.output: No such file or directory\n"
          ]
        }
      ]
    },
    {
      "cell_type": "code",
      "source": [
        "!nvidia-smi"
      ],
      "metadata": {
        "colab": {
          "base_uri": "https://localhost:8080/"
        },
        "id": "tuvwXmihZ1uA",
        "outputId": "c5c147d7-4e1e-43a5-ac46-45182fb48e6f"
      },
      "execution_count": null,
      "outputs": [
        {
          "output_type": "stream",
          "name": "stdout",
          "text": [
            "NVIDIA-SMI has failed because it couldn't communicate with the NVIDIA driver. Make sure that the latest NVIDIA driver is installed and running.\n",
            "\n"
          ]
        }
      ]
    },
    {
      "cell_type": "code",
      "source": [],
      "metadata": {
        "id": "0DoW_lhjZ9Xz"
      },
      "execution_count": null,
      "outputs": []
    }
  ]
}